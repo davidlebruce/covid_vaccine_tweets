{
 "cells": [
  {
   "cell_type": "markdown",
   "metadata": {},
   "source": [
    "# Twitter Data Collection"
   ]
  },
  {
   "cell_type": "markdown",
   "metadata": {},
   "source": [
    "`twint_scrape` and `search_loop` adapted from Josh Szymanowski and Eric Blander"
   ]
  },
  {
   "cell_type": "code",
   "execution_count": 1,
   "metadata": {},
   "outputs": [],
   "source": [
    "import pandas as pd\n",
    "from src.functions import * \n",
    "\n",
    "%load_ext autoreload\n",
    "%autoreload 2"
   ]
  },
  {
   "cell_type": "code",
   "execution_count": 8,
   "metadata": {},
   "outputs": [],
   "source": [
    "search = 'covid vaccine'\n",
    "filename = 'covid_vaccine_tweets'\n",
    "limit = 3000"
   ]
  },
  {
   "cell_type": "code",
   "execution_count": 13,
   "metadata": {},
   "outputs": [
    {
     "name": "stdout",
     "output_type": "stream",
     "text": [
      "[!] No more data! Scraping will stop now.\n",
      "found 0 deleted tweets in this search.\n",
      "2020-01-01 saved!\n",
      "2020-02-01 saved!\n",
      "2020-03-01 saved!\n",
      "2020-04-01 saved!\n",
      "2020-05-01 saved!\n",
      "2020-06-01 saved!\n",
      "2020-07-01 saved!\n",
      "2020-08-01 saved!\n",
      "2020-09-01 saved!\n",
      "2020-10-01 saved!\n",
      "2020-11-01 saved!\n",
      "2020-12-01 saved!\n",
      "CPU times: user 18.9 s, sys: 795 ms, total: 19.7 s\n",
      "Wall time: 7min 4s\n"
     ]
    }
   ],
   "source": [
    "%time df = search_loop(search, filename, limit)"
   ]
  },
  {
   "cell_type": "code",
   "execution_count": 14,
   "metadata": {},
   "outputs": [],
   "source": [
    "df = pd.read_csv('./data/covid_vaccine_tweets.csv')"
   ]
  },
  {
   "cell_type": "code",
   "execution_count": 15,
   "metadata": {},
   "outputs": [
    {
     "data": {
      "text/plain": [
       "(33639, 39)"
      ]
     },
     "execution_count": 15,
     "metadata": {},
     "output_type": "execute_result"
    }
   ],
   "source": [
    "df.shape"
   ]
  },
  {
   "cell_type": "markdown",
   "metadata": {},
   "source": [
    "## Limit 7500 per month"
   ]
  },
  {
   "cell_type": "code",
   "execution_count": 13,
   "metadata": {},
   "outputs": [],
   "source": [
    "search = 'covid vaccine'\n",
    "filename = 'covid_vaccine_tweets'\n",
    "limit = 7500"
   ]
  },
  {
   "cell_type": "code",
   "execution_count": 14,
   "metadata": {},
   "outputs": [
    {
     "name": "stdout",
     "output_type": "stream",
     "text": [
      "[!] No more data! Scraping will stop now.\n",
      "found 0 deleted tweets in this search.\n",
      "2020-01-01 saved!\n",
      "[!] No more data! Scraping will stop now.\n",
      "found 0 deleted tweets in this search.\n",
      "2020-02-01 saved!\n"
     ]
    },
    {
     "name": "stderr",
     "output_type": "stream",
     "text": [
      "ERROR:asyncio:Fatal read error on socket transport\n",
      "protocol: <asyncio.sslproto.SSLProtocol object at 0x7fef0cbd86a0>\n",
      "transport: <_SelectorSocketTransport fd=62 read=polling write=<idle, bufsize=0>>\n",
      "Traceback (most recent call last):\n",
      "  File \"/Users/davidbruce/opt/anaconda3/envs/learn-env/lib/python3.6/asyncio/selector_events.py\", line 714, in _read_ready\n",
      "    data = self._sock.recv(self.max_size)\n",
      "TimeoutError: [Errno 60] Operation timed out\n"
     ]
    },
    {
     "name": "stdout",
     "output_type": "stream",
     "text": [
      "2020-03-01 saved!\n",
      "2020-04-01 saved!\n",
      "2020-05-01 saved!\n",
      "2020-06-01 saved!\n",
      "2020-07-01 saved!\n",
      "2020-08-01 saved!\n",
      "2020-09-01 saved!\n",
      "2020-10-01 saved!\n",
      "2020-11-01 saved!\n",
      "2020-12-01 saved!\n",
      "CPU times: user 45.1 s, sys: 1.94 s, total: 47 s\n",
      "Wall time: 13min 34s\n"
     ]
    }
   ],
   "source": [
    "%time df = search_loop(search, filename, limit)"
   ]
  },
  {
   "cell_type": "code",
   "execution_count": 19,
   "metadata": {},
   "outputs": [],
   "source": [
    "df_3 = pd.read_csv('./data/covid_vaccine_tweets.csv')"
   ]
  },
  {
   "cell_type": "code",
   "execution_count": 20,
   "metadata": {},
   "outputs": [
    {
     "data": {
      "text/plain": [
       "(80730, 39)"
      ]
     },
     "execution_count": 20,
     "metadata": {},
     "output_type": "execute_result"
    }
   ],
   "source": [
    "df_3.shape"
   ]
  },
  {
   "cell_type": "markdown",
   "metadata": {},
   "source": [
    "# Twint Scrape w/ Location"
   ]
  },
  {
   "cell_type": "code",
   "execution_count": 22,
   "metadata": {},
   "outputs": [],
   "source": [
    "search = 'covid vaccine'\n",
    "filename = 'ny_tweets'\n",
    "city = 'New York'\n",
    "limit = 7500"
   ]
  },
  {
   "cell_type": "code",
   "execution_count": 23,
   "metadata": {},
   "outputs": [
    {
     "name": "stdout",
     "output_type": "stream",
     "text": [
      "[!] No more data! Scraping will stop now.\n",
      "found 0 deleted tweets in this search.\n",
      "2020-01-01 saved!\n",
      "[!] No more data! Scraping will stop now.\n",
      "found 0 deleted tweets in this search.\n",
      "2020-02-01 saved!\n",
      "[!] No more data! Scraping will stop now.\n",
      "found 0 deleted tweets in this search.\n",
      "2020-03-01 saved!\n",
      "[!] No more data! Scraping will stop now.\n",
      "found 0 deleted tweets in this search.\n",
      "2020-04-01 saved!\n",
      "[!] No more data! Scraping will stop now.\n",
      "found 0 deleted tweets in this search.\n",
      "2020-05-01 saved!\n",
      "[!] No more data! Scraping will stop now.\n",
      "found 0 deleted tweets in this search.\n",
      "2020-06-01 saved!\n",
      "[!] No more data! Scraping will stop now.\n",
      "found 0 deleted tweets in this search.\n",
      "2020-07-01 saved!\n",
      "[!] No more data! Scraping will stop now.\n",
      "found 0 deleted tweets in this search.\n",
      "2020-08-01 saved!\n",
      "[!] No more data! Scraping will stop now.\n",
      "found 0 deleted tweets in this search.\n",
      "2020-09-01 saved!\n",
      "[!] No more data! Scraping will stop now.\n",
      "found 0 deleted tweets in this search.\n",
      "2020-10-01 saved!\n",
      "[!] No more data! Scraping will stop now.\n",
      "found 0 deleted tweets in this search.\n",
      "2020-11-01 saved!\n",
      "2020-12-01 saved!\n",
      "CPU times: user 4.36 s, sys: 257 ms, total: 4.61 s\n",
      "Wall time: 1min 40s\n"
     ]
    }
   ],
   "source": [
    "%time df = search_loc_loop(search, city, filename, limit)"
   ]
  },
  {
   "cell_type": "code",
   "execution_count": 24,
   "metadata": {},
   "outputs": [
    {
     "name": "stderr",
     "output_type": "stream",
     "text": [
      "/Users/davidbruce/opt/anaconda3/envs/learn-env/lib/python3.6/site-packages/IPython/core/interactiveshell.py:2714: DtypeWarning: Columns (0,1,2,3,11,12,15,20) have mixed types. Specify dtype option on import or set low_memory=False.\n",
      "  interactivity=interactivity, compiler=compiler, result=result)\n"
     ]
    }
   ],
   "source": [
    "df = pd.read_csv('./data/ny_tweets.csv')"
   ]
  },
  {
   "cell_type": "code",
   "execution_count": 26,
   "metadata": {},
   "outputs": [
    {
     "data": {
      "text/plain": [
       "(16847, 39)"
      ]
     },
     "execution_count": 26,
     "metadata": {},
     "output_type": "execute_result"
    }
   ],
   "source": [
    "df.shape"
   ]
  },
  {
   "cell_type": "code",
   "execution_count": 27,
   "metadata": {},
   "outputs": [
    {
     "data": {
      "text/html": [
       "<div>\n",
       "<style scoped>\n",
       "    .dataframe tbody tr th:only-of-type {\n",
       "        vertical-align: middle;\n",
       "    }\n",
       "\n",
       "    .dataframe tbody tr th {\n",
       "        vertical-align: top;\n",
       "    }\n",
       "\n",
       "    .dataframe thead th {\n",
       "        text-align: right;\n",
       "    }\n",
       "</style>\n",
       "<table border=\"1\" class=\"dataframe\">\n",
       "  <thead>\n",
       "    <tr style=\"text-align: right;\">\n",
       "      <th></th>\n",
       "      <th>Unnamed: 0</th>\n",
       "      <th>id</th>\n",
       "      <th>conversation_id</th>\n",
       "      <th>created_at</th>\n",
       "      <th>date</th>\n",
       "      <th>timezone</th>\n",
       "      <th>place</th>\n",
       "      <th>tweet</th>\n",
       "      <th>language</th>\n",
       "      <th>hashtags</th>\n",
       "      <th>...</th>\n",
       "      <th>geo</th>\n",
       "      <th>source</th>\n",
       "      <th>user_rt_id</th>\n",
       "      <th>user_rt</th>\n",
       "      <th>retweet_id</th>\n",
       "      <th>reply_to</th>\n",
       "      <th>retweet_date</th>\n",
       "      <th>translate</th>\n",
       "      <th>trans_src</th>\n",
       "      <th>trans_dest</th>\n",
       "    </tr>\n",
       "  </thead>\n",
       "  <tbody>\n",
       "    <tr>\n",
       "      <th>0</th>\n",
       "      <td>0</td>\n",
       "      <td>1230529563098304513</td>\n",
       "      <td>1230529563098304513</td>\n",
       "      <td>1.58222e+12</td>\n",
       "      <td>2020-02-20 11:28:04</td>\n",
       "      <td>-500</td>\n",
       "      <td>NaN</td>\n",
       "      <td>During a live conference regarding COVID-19, @...</td>\n",
       "      <td>en</td>\n",
       "      <td>['covid2019']</td>\n",
       "      <td>...</td>\n",
       "      <td>NaN</td>\n",
       "      <td>NaN</td>\n",
       "      <td>NaN</td>\n",
       "      <td>NaN</td>\n",
       "      <td>NaN</td>\n",
       "      <td>[]</td>\n",
       "      <td>NaN</td>\n",
       "      <td>NaN</td>\n",
       "      <td>NaN</td>\n",
       "      <td>NaN</td>\n",
       "    </tr>\n",
       "    <tr>\n",
       "      <th>1</th>\n",
       "      <td>1</td>\n",
       "      <td>1244475262835851264</td>\n",
       "      <td>1244475262835851264</td>\n",
       "      <td>1.58554e+12</td>\n",
       "      <td>2020-03-30 00:03:18</td>\n",
       "      <td>-500</td>\n",
       "      <td>NaN</td>\n",
       "      <td>if Shuri from Black Panther was real we would’...</td>\n",
       "      <td>en</td>\n",
       "      <td>[]</td>\n",
       "      <td>...</td>\n",
       "      <td>NaN</td>\n",
       "      <td>NaN</td>\n",
       "      <td>NaN</td>\n",
       "      <td>NaN</td>\n",
       "      <td>NaN</td>\n",
       "      <td>[]</td>\n",
       "      <td>NaN</td>\n",
       "      <td>NaN</td>\n",
       "      <td>NaN</td>\n",
       "      <td>NaN</td>\n",
       "    </tr>\n",
       "    <tr>\n",
       "      <th>2</th>\n",
       "      <td>2</td>\n",
       "      <td>1244177043761356801</td>\n",
       "      <td>1244170766976978945</td>\n",
       "      <td>1.58547e+12</td>\n",
       "      <td>2020-03-29 04:18:17</td>\n",
       "      <td>-500</td>\n",
       "      <td>NaN</td>\n",
       "      <td>@MalcolmNance @RealCandaceO How about this, Ca...</td>\n",
       "      <td>en</td>\n",
       "      <td>[]</td>\n",
       "      <td>...</td>\n",
       "      <td>NaN</td>\n",
       "      <td>NaN</td>\n",
       "      <td>NaN</td>\n",
       "      <td>NaN</td>\n",
       "      <td>NaN</td>\n",
       "      <td>[{'screen_name': 'MalcolmNance', 'name': 'Malc...</td>\n",
       "      <td>NaN</td>\n",
       "      <td>NaN</td>\n",
       "      <td>NaN</td>\n",
       "      <td>NaN</td>\n",
       "    </tr>\n",
       "    <tr>\n",
       "      <th>3</th>\n",
       "      <td>3</td>\n",
       "      <td>1243921301347143682</td>\n",
       "      <td>1243921301347143682</td>\n",
       "      <td>1.58541e+12</td>\n",
       "      <td>2020-03-28 11:22:03</td>\n",
       "      <td>-500</td>\n",
       "      <td>NaN</td>\n",
       "      <td>@realDonaldTrump please don’t allow relaxed EP...</td>\n",
       "      <td>en</td>\n",
       "      <td>[]</td>\n",
       "      <td>...</td>\n",
       "      <td>NaN</td>\n",
       "      <td>NaN</td>\n",
       "      <td>NaN</td>\n",
       "      <td>NaN</td>\n",
       "      <td>NaN</td>\n",
       "      <td>[]</td>\n",
       "      <td>NaN</td>\n",
       "      <td>NaN</td>\n",
       "      <td>NaN</td>\n",
       "      <td>NaN</td>\n",
       "    </tr>\n",
       "    <tr>\n",
       "      <th>4</th>\n",
       "      <td>4</td>\n",
       "      <td>1243158889211797504</td>\n",
       "      <td>1243158889211797504</td>\n",
       "      <td>1.58523e+12</td>\n",
       "      <td>2020-03-26 08:52:30</td>\n",
       "      <td>-500</td>\n",
       "      <td>NaN</td>\n",
       "      <td>Let’s go #Pittsburgh! — Researchers in Pittsbu...</td>\n",
       "      <td>en</td>\n",
       "      <td>['pittsburgh']</td>\n",
       "      <td>...</td>\n",
       "      <td>NaN</td>\n",
       "      <td>NaN</td>\n",
       "      <td>NaN</td>\n",
       "      <td>NaN</td>\n",
       "      <td>NaN</td>\n",
       "      <td>[]</td>\n",
       "      <td>NaN</td>\n",
       "      <td>NaN</td>\n",
       "      <td>NaN</td>\n",
       "      <td>NaN</td>\n",
       "    </tr>\n",
       "  </tbody>\n",
       "</table>\n",
       "<p>5 rows × 39 columns</p>\n",
       "</div>"
      ],
      "text/plain": [
       "  Unnamed: 0                   id      conversation_id   created_at  \\\n",
       "0          0  1230529563098304513  1230529563098304513  1.58222e+12   \n",
       "1          1  1244475262835851264  1244475262835851264  1.58554e+12   \n",
       "2          2  1244177043761356801  1244170766976978945  1.58547e+12   \n",
       "3          3  1243921301347143682  1243921301347143682  1.58541e+12   \n",
       "4          4  1243158889211797504  1243158889211797504  1.58523e+12   \n",
       "\n",
       "                  date  timezone place  \\\n",
       "0  2020-02-20 11:28:04      -500   NaN   \n",
       "1  2020-03-30 00:03:18      -500   NaN   \n",
       "2  2020-03-29 04:18:17      -500   NaN   \n",
       "3  2020-03-28 11:22:03      -500   NaN   \n",
       "4  2020-03-26 08:52:30      -500   NaN   \n",
       "\n",
       "                                               tweet language        hashtags  \\\n",
       "0  During a live conference regarding COVID-19, @...       en   ['covid2019']   \n",
       "1  if Shuri from Black Panther was real we would’...       en              []   \n",
       "2  @MalcolmNance @RealCandaceO How about this, Ca...       en              []   \n",
       "3  @realDonaldTrump please don’t allow relaxed EP...       en              []   \n",
       "4  Let’s go #Pittsburgh! — Researchers in Pittsbu...       en  ['pittsburgh']   \n",
       "\n",
       "   ... geo source user_rt_id user_rt retweet_id  \\\n",
       "0  ... NaN    NaN        NaN     NaN        NaN   \n",
       "1  ... NaN    NaN        NaN     NaN        NaN   \n",
       "2  ... NaN    NaN        NaN     NaN        NaN   \n",
       "3  ... NaN    NaN        NaN     NaN        NaN   \n",
       "4  ... NaN    NaN        NaN     NaN        NaN   \n",
       "\n",
       "                                            reply_to  retweet_date translate  \\\n",
       "0                                                 []           NaN       NaN   \n",
       "1                                                 []           NaN       NaN   \n",
       "2  [{'screen_name': 'MalcolmNance', 'name': 'Malc...           NaN       NaN   \n",
       "3                                                 []           NaN       NaN   \n",
       "4                                                 []           NaN       NaN   \n",
       "\n",
       "  trans_src trans_dest  \n",
       "0       NaN        NaN  \n",
       "1       NaN        NaN  \n",
       "2       NaN        NaN  \n",
       "3       NaN        NaN  \n",
       "4       NaN        NaN  \n",
       "\n",
       "[5 rows x 39 columns]"
      ]
     },
     "execution_count": 27,
     "metadata": {},
     "output_type": "execute_result"
    }
   ],
   "source": [
    "df.head()"
   ]
  },
  {
   "cell_type": "code",
   "execution_count": 28,
   "metadata": {},
   "outputs": [
    {
     "data": {
      "text/html": [
       "<div>\n",
       "<style scoped>\n",
       "    .dataframe tbody tr th:only-of-type {\n",
       "        vertical-align: middle;\n",
       "    }\n",
       "\n",
       "    .dataframe tbody tr th {\n",
       "        vertical-align: top;\n",
       "    }\n",
       "\n",
       "    .dataframe thead th {\n",
       "        text-align: right;\n",
       "    }\n",
       "</style>\n",
       "<table border=\"1\" class=\"dataframe\">\n",
       "  <thead>\n",
       "    <tr style=\"text-align: right;\">\n",
       "      <th></th>\n",
       "      <th>Unnamed: 0</th>\n",
       "      <th>id</th>\n",
       "      <th>conversation_id</th>\n",
       "      <th>created_at</th>\n",
       "      <th>date</th>\n",
       "      <th>timezone</th>\n",
       "      <th>place</th>\n",
       "      <th>tweet</th>\n",
       "      <th>language</th>\n",
       "      <th>hashtags</th>\n",
       "      <th>...</th>\n",
       "      <th>geo</th>\n",
       "      <th>source</th>\n",
       "      <th>user_rt_id</th>\n",
       "      <th>user_rt</th>\n",
       "      <th>retweet_id</th>\n",
       "      <th>reply_to</th>\n",
       "      <th>retweet_date</th>\n",
       "      <th>translate</th>\n",
       "      <th>trans_src</th>\n",
       "      <th>trans_dest</th>\n",
       "    </tr>\n",
       "  </thead>\n",
       "  <tbody>\n",
       "    <tr>\n",
       "      <th>16842</th>\n",
       "      <td>8773</td>\n",
       "      <td>1336546754943209474</td>\n",
       "      <td>1335035983327326208</td>\n",
       "      <td>1607492552000.0</td>\n",
       "      <td>2020-12-09 00:42:32</td>\n",
       "      <td>-500</td>\n",
       "      <td>NaN</td>\n",
       "      <td>@EricaKaplan15 @RealCandaceO Alright for real ...</td>\n",
       "      <td>en</td>\n",
       "      <td>[]</td>\n",
       "      <td>...</td>\n",
       "      <td>NaN</td>\n",
       "      <td>NaN</td>\n",
       "      <td>NaN</td>\n",
       "      <td>NaN</td>\n",
       "      <td>NaN</td>\n",
       "      <td>[{'screen_name': 'EricaKaplan15', 'name': 'Eri...</td>\n",
       "      <td>NaN</td>\n",
       "      <td>NaN</td>\n",
       "      <td>NaN</td>\n",
       "      <td>NaN</td>\n",
       "    </tr>\n",
       "    <tr>\n",
       "      <th>16843</th>\n",
       "      <td>8774</td>\n",
       "      <td>1336546571123642368</td>\n",
       "      <td>1336546571123642368</td>\n",
       "      <td>1607492509000.0</td>\n",
       "      <td>2020-12-09 00:41:49</td>\n",
       "      <td>-500</td>\n",
       "      <td>NaN</td>\n",
       "      <td>𝗗𝗲𝗰𝗶𝘀𝗶𝗼𝗻 😧 #Decision #BusinessIndustrial  The ...</td>\n",
       "      <td>en</td>\n",
       "      <td>['decision', 'businessindustrial']</td>\n",
       "      <td>...</td>\n",
       "      <td>NaN</td>\n",
       "      <td>NaN</td>\n",
       "      <td>NaN</td>\n",
       "      <td>NaN</td>\n",
       "      <td>NaN</td>\n",
       "      <td>[]</td>\n",
       "      <td>NaN</td>\n",
       "      <td>NaN</td>\n",
       "      <td>NaN</td>\n",
       "      <td>NaN</td>\n",
       "    </tr>\n",
       "    <tr>\n",
       "      <th>16844</th>\n",
       "      <td>8775</td>\n",
       "      <td>1336545739120455680</td>\n",
       "      <td>1335237814552649728</td>\n",
       "      <td>1607492310000.0</td>\n",
       "      <td>2020-12-09 00:38:30</td>\n",
       "      <td>-500</td>\n",
       "      <td>NaN</td>\n",
       "      <td>@jorient @YouTube I am so happy to see an inte...</td>\n",
       "      <td>en</td>\n",
       "      <td>[]</td>\n",
       "      <td>...</td>\n",
       "      <td>NaN</td>\n",
       "      <td>NaN</td>\n",
       "      <td>NaN</td>\n",
       "      <td>NaN</td>\n",
       "      <td>NaN</td>\n",
       "      <td>[{'screen_name': 'jorient', 'name': 'Jane Orie...</td>\n",
       "      <td>NaN</td>\n",
       "      <td>NaN</td>\n",
       "      <td>NaN</td>\n",
       "      <td>NaN</td>\n",
       "    </tr>\n",
       "    <tr>\n",
       "      <th>16845</th>\n",
       "      <td>8776</td>\n",
       "      <td>1336545725673508864</td>\n",
       "      <td>1336411251078025217</td>\n",
       "      <td>1607492307000.0</td>\n",
       "      <td>2020-12-09 00:38:27</td>\n",
       "      <td>-500</td>\n",
       "      <td>NaN</td>\n",
       "      <td>@ZaidZamanHamid MMR’s vaccine which was tested...</td>\n",
       "      <td>en</td>\n",
       "      <td>[]</td>\n",
       "      <td>...</td>\n",
       "      <td>NaN</td>\n",
       "      <td>NaN</td>\n",
       "      <td>NaN</td>\n",
       "      <td>NaN</td>\n",
       "      <td>NaN</td>\n",
       "      <td>[{'screen_name': 'ZaidZamanHamid', 'name': 'Za...</td>\n",
       "      <td>NaN</td>\n",
       "      <td>NaN</td>\n",
       "      <td>NaN</td>\n",
       "      <td>NaN</td>\n",
       "    </tr>\n",
       "    <tr>\n",
       "      <th>16846</th>\n",
       "      <td>8777</td>\n",
       "      <td>1336545412220596230</td>\n",
       "      <td>1336417759970865159</td>\n",
       "      <td>1607492232000.0</td>\n",
       "      <td>2020-12-09 00:37:12</td>\n",
       "      <td>-500</td>\n",
       "      <td>NaN</td>\n",
       "      <td>@GenFlynn @realDonaldTrump The final phase was...</td>\n",
       "      <td>en</td>\n",
       "      <td>[]</td>\n",
       "      <td>...</td>\n",
       "      <td>NaN</td>\n",
       "      <td>NaN</td>\n",
       "      <td>NaN</td>\n",
       "      <td>NaN</td>\n",
       "      <td>NaN</td>\n",
       "      <td>[{'screen_name': 'GenFlynn', 'name': 'General ...</td>\n",
       "      <td>NaN</td>\n",
       "      <td>NaN</td>\n",
       "      <td>NaN</td>\n",
       "      <td>NaN</td>\n",
       "    </tr>\n",
       "  </tbody>\n",
       "</table>\n",
       "<p>5 rows × 39 columns</p>\n",
       "</div>"
      ],
      "text/plain": [
       "      Unnamed: 0                   id      conversation_id       created_at  \\\n",
       "16842       8773  1336546754943209474  1335035983327326208  1607492552000.0   \n",
       "16843       8774  1336546571123642368  1336546571123642368  1607492509000.0   \n",
       "16844       8775  1336545739120455680  1335237814552649728  1607492310000.0   \n",
       "16845       8776  1336545725673508864  1336411251078025217  1607492307000.0   \n",
       "16846       8777  1336545412220596230  1336417759970865159  1607492232000.0   \n",
       "\n",
       "                      date  timezone place  \\\n",
       "16842  2020-12-09 00:42:32      -500   NaN   \n",
       "16843  2020-12-09 00:41:49      -500   NaN   \n",
       "16844  2020-12-09 00:38:30      -500   NaN   \n",
       "16845  2020-12-09 00:38:27      -500   NaN   \n",
       "16846  2020-12-09 00:37:12      -500   NaN   \n",
       "\n",
       "                                                   tweet language  \\\n",
       "16842  @EricaKaplan15 @RealCandaceO Alright for real ...       en   \n",
       "16843  𝗗𝗲𝗰𝗶𝘀𝗶𝗼𝗻 😧 #Decision #BusinessIndustrial  The ...       en   \n",
       "16844  @jorient @YouTube I am so happy to see an inte...       en   \n",
       "16845  @ZaidZamanHamid MMR’s vaccine which was tested...       en   \n",
       "16846  @GenFlynn @realDonaldTrump The final phase was...       en   \n",
       "\n",
       "                                 hashtags  ... geo source user_rt_id user_rt  \\\n",
       "16842                                  []  ... NaN    NaN        NaN     NaN   \n",
       "16843  ['decision', 'businessindustrial']  ... NaN    NaN        NaN     NaN   \n",
       "16844                                  []  ... NaN    NaN        NaN     NaN   \n",
       "16845                                  []  ... NaN    NaN        NaN     NaN   \n",
       "16846                                  []  ... NaN    NaN        NaN     NaN   \n",
       "\n",
       "      retweet_id                                           reply_to  \\\n",
       "16842        NaN  [{'screen_name': 'EricaKaplan15', 'name': 'Eri...   \n",
       "16843        NaN                                                 []   \n",
       "16844        NaN  [{'screen_name': 'jorient', 'name': 'Jane Orie...   \n",
       "16845        NaN  [{'screen_name': 'ZaidZamanHamid', 'name': 'Za...   \n",
       "16846        NaN  [{'screen_name': 'GenFlynn', 'name': 'General ...   \n",
       "\n",
       "       retweet_date translate trans_src trans_dest  \n",
       "16842           NaN       NaN       NaN        NaN  \n",
       "16843           NaN       NaN       NaN        NaN  \n",
       "16844           NaN       NaN       NaN        NaN  \n",
       "16845           NaN       NaN       NaN        NaN  \n",
       "16846           NaN       NaN       NaN        NaN  \n",
       "\n",
       "[5 rows x 39 columns]"
      ]
     },
     "execution_count": 28,
     "metadata": {},
     "output_type": "execute_result"
    }
   ],
   "source": [
    "df.tail()"
   ]
  },
  {
   "cell_type": "code",
   "execution_count": null,
   "metadata": {},
   "outputs": [],
   "source": []
  }
 ],
 "metadata": {
  "kernelspec": {
   "display_name": "Python 3",
   "language": "python",
   "name": "python3"
  },
  "language_info": {
   "codemirror_mode": {
    "name": "ipython",
    "version": 3
   },
   "file_extension": ".py",
   "mimetype": "text/x-python",
   "name": "python",
   "nbconvert_exporter": "python",
   "pygments_lexer": "ipython3",
   "version": "3.6.9"
  }
 },
 "nbformat": 4,
 "nbformat_minor": 4
}
