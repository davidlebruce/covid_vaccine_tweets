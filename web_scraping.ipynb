{
 "cells": [
  {
   "cell_type": "markdown",
   "metadata": {},
   "source": [
    "# Twitter Data Collection"
   ]
  },
  {
   "cell_type": "markdown",
   "metadata": {},
   "source": [
    "`twint_scrape` and `search_loop` adapted from Josh Szymanowski and Eric Blander"
   ]
  },
  {
   "cell_type": "code",
   "execution_count": 5,
   "metadata": {},
   "outputs": [
    {
     "name": "stdout",
     "output_type": "stream",
     "text": [
      "The autoreload extension is already loaded. To reload it, use:\n",
      "  %reload_ext autoreload\n"
     ]
    }
   ],
   "source": [
    "import pandas as pd\n",
    "from src.functions import * \n",
    "\n",
    "%load_ext autoreload\n",
    "%autoreload 2"
   ]
  },
  {
   "cell_type": "code",
   "execution_count": 8,
   "metadata": {},
   "outputs": [],
   "source": [
    "search = 'covid vaccine'\n",
    "filename = 'covid_vaccine_tweets'\n",
    "limit = 3000"
   ]
  },
  {
   "cell_type": "code",
   "execution_count": 13,
   "metadata": {},
   "outputs": [
    {
     "name": "stdout",
     "output_type": "stream",
     "text": [
      "[!] No more data! Scraping will stop now.\n",
      "found 0 deleted tweets in this search.\n",
      "2020-01-01 saved!\n",
      "2020-02-01 saved!\n",
      "2020-03-01 saved!\n",
      "2020-04-01 saved!\n",
      "2020-05-01 saved!\n",
      "2020-06-01 saved!\n",
      "2020-07-01 saved!\n",
      "2020-08-01 saved!\n",
      "2020-09-01 saved!\n",
      "2020-10-01 saved!\n",
      "2020-11-01 saved!\n",
      "2020-12-01 saved!\n",
      "CPU times: user 18.9 s, sys: 795 ms, total: 19.7 s\n",
      "Wall time: 7min 4s\n"
     ]
    }
   ],
   "source": [
    "%time df = search_loop(search, filename, limit)"
   ]
  },
  {
   "cell_type": "code",
   "execution_count": 14,
   "metadata": {},
   "outputs": [],
   "source": [
    "df = pd.read_csv('./data/covid_vaccine_tweets.csv')"
   ]
  },
  {
   "cell_type": "code",
   "execution_count": 15,
   "metadata": {},
   "outputs": [
    {
     "data": {
      "text/plain": [
       "(33639, 39)"
      ]
     },
     "execution_count": 15,
     "metadata": {},
     "output_type": "execute_result"
    }
   ],
   "source": [
    "df.shape"
   ]
  },
  {
   "cell_type": "code",
   "execution_count": 21,
   "metadata": {},
   "outputs": [],
   "source": [
    "search = 'covid vaccine'\n",
    "filename = 'lim_5_covid_tweets'\n",
    "limit = 5000"
   ]
  },
  {
   "cell_type": "code",
   "execution_count": 22,
   "metadata": {},
   "outputs": [
    {
     "name": "stdout",
     "output_type": "stream",
     "text": [
      "[!] No more data! Scraping will stop now.\n",
      "found 0 deleted tweets in this search.\n",
      "2020-01-01 saved!\n",
      "2020-02-01 saved!\n",
      "2020-03-01 saved!\n",
      "2020-04-01 saved!\n",
      "2020-05-01 saved!\n",
      "2020-06-01 saved!\n",
      "2020-07-01 saved!\n",
      "2020-08-01 saved!\n",
      "2020-09-01 saved!\n",
      "2020-10-01 saved!\n",
      "2020-11-01 saved!\n",
      "2020-12-01 saved!\n",
      "CPU times: user 30.9 s, sys: 1.21 s, total: 32.1 s\n",
      "Wall time: 10min 49s\n"
     ]
    }
   ],
   "source": [
    "%time df = search_loop(search, filename, limit)"
   ]
  },
  {
   "cell_type": "code",
   "execution_count": 23,
   "metadata": {},
   "outputs": [],
   "source": [
    "df_2 = pd.read_csv('./data/lim_5_covid_tweets.csv')"
   ]
  },
  {
   "cell_type": "code",
   "execution_count": 24,
   "metadata": {},
   "outputs": [
    {
     "data": {
      "text/plain": [
       "(55639, 39)"
      ]
     },
     "execution_count": 24,
     "metadata": {},
     "output_type": "execute_result"
    }
   ],
   "source": [
    "df_2.shape"
   ]
  },
  {
   "cell_type": "code",
   "execution_count": null,
   "metadata": {},
   "outputs": [],
   "source": []
  }
 ],
 "metadata": {
  "kernelspec": {
   "display_name": "Python 3",
   "language": "python",
   "name": "python3"
  },
  "language_info": {
   "codemirror_mode": {
    "name": "ipython",
    "version": 3
   },
   "file_extension": ".py",
   "mimetype": "text/x-python",
   "name": "python",
   "nbconvert_exporter": "python",
   "pygments_lexer": "ipython3",
   "version": "3.6.9"
  }
 },
 "nbformat": 4,
 "nbformat_minor": 4
}
