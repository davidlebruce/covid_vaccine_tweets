{
 "cells": [
  {
   "cell_type": "markdown",
   "metadata": {},
   "source": [
    "# Preprocessing"
   ]
  },
  {
   "cell_type": "code",
   "execution_count": 39,
   "metadata": {},
   "outputs": [],
   "source": [
    "# import packages\n",
    "import pandas as pd\n",
    "import numpy as np\n",
    "import datetime\n",
    "\n",
    "# visualization packages\n",
    "import matplotlib.pyplot as plt\n",
    "%matplotlib inline\n",
    "import seaborn as sns\n",
    "from wordcloud import WordCloud\n",
    "\n",
    "# NLP packages\n",
    "import spacy, re\n",
    "import en_core_web_sm\n",
    "from spacy.lang.en import English\n",
    "from spacy import displacy\n",
    "from nltk.corpus import stopwords\n",
    "from nltk.probability import FreqDist\n",
    "from vaderSentiment.vaderSentiment import SentimentIntensityAnalyzer\n",
    "from sklearn.feature_extraction.text import TfidfVectorizer\n",
    "\n",
    "# optimize viewing\n",
    "pd.set_option('max_colwidth', 150)"
   ]
  },
  {
   "cell_type": "code",
   "execution_count": 2,
   "metadata": {},
   "outputs": [],
   "source": [
    "# read in cleaned dataframe\n",
    "df = pd.read_csv('./data/clean_df.csv')"
   ]
  },
  {
   "cell_type": "code",
   "execution_count": 6,
   "metadata": {},
   "outputs": [],
   "source": [
    "df = df.drop(labels=['Unnamed: 0'], axis=1)"
   ]
  },
  {
   "cell_type": "code",
   "execution_count": 7,
   "metadata": {},
   "outputs": [
    {
     "data": {
      "text/plain": [
       "(77259, 7)"
      ]
     },
     "execution_count": 7,
     "metadata": {},
     "output_type": "execute_result"
    }
   ],
   "source": [
    "df.shape"
   ]
  },
  {
   "cell_type": "code",
   "execution_count": 8,
   "metadata": {},
   "outputs": [],
   "source": [
    "# convert date to datetime object\n",
    "df['date'] = df['date'].apply(lambda x: datetime.datetime.strptime(x, '%Y-%m-%d %H:%M:%S'))\n",
    "\n",
    "# convert datetime to string without timestamp\n",
    "df['date'] = df['date'].apply(lambda x: x.strftime('%Y-%m-%d'))\n",
    "\n",
    "# convert date back to datetime\n",
    "df['date'] = df['date'].apply(lambda x: datetime.datetime.strptime(x, '%Y-%m-%d'))"
   ]
  },
  {
   "cell_type": "markdown",
   "metadata": {},
   "source": [
    "## VADER Sentiment Classification"
   ]
  },
  {
   "cell_type": "code",
   "execution_count": 9,
   "metadata": {},
   "outputs": [],
   "source": [
    "# use vader compound (or composite) score to evaluate the tweet sentiment\n",
    "vader = SentimentIntensityAnalyzer()\n",
    "\n",
    "df['vader_score'] = df['tweet'].apply(lambda x: vader.polarity_scores(x)['compound'])"
   ]
  },
  {
   "cell_type": "code",
   "execution_count": 13,
   "metadata": {},
   "outputs": [],
   "source": [
    "conditions = [\n",
    "    df['vader_score'] >= .05,\n",
    "    df['vader_score'] <= -.05\n",
    "]\n",
    "\n",
    "classes = ['positive', 'negative']\n",
    "\n",
    "df['sentiment'] = np.select(conditions, classes, 'neutral')"
   ]
  },
  {
   "cell_type": "code",
   "execution_count": 14,
   "metadata": {},
   "outputs": [
    {
     "data": {
      "text/plain": [
       "positive    31095\n",
       "negative    25703\n",
       "neutral     20461\n",
       "Name: sentiment, dtype: int64"
      ]
     },
     "execution_count": 14,
     "metadata": {},
     "output_type": "execute_result"
    }
   ],
   "source": [
    "df.sentiment.value_counts()"
   ]
  },
  {
   "cell_type": "code",
   "execution_count": 15,
   "metadata": {},
   "outputs": [
    {
     "data": {
      "text/plain": [
       "positive    0.402477\n",
       "negative    0.332686\n",
       "neutral     0.264836\n",
       "Name: sentiment, dtype: float64"
      ]
     },
     "execution_count": 15,
     "metadata": {},
     "output_type": "execute_result"
    }
   ],
   "source": [
    "df.sentiment.value_counts(normalize=True)"
   ]
  },
  {
   "cell_type": "code",
   "execution_count": 16,
   "metadata": {},
   "outputs": [],
   "source": [
    "df = df.drop(labels='vader_score', axis=1)"
   ]
  },
  {
   "cell_type": "code",
   "execution_count": 17,
   "metadata": {},
   "outputs": [
    {
     "data": {
      "text/html": [
       "<div>\n",
       "<style scoped>\n",
       "    .dataframe tbody tr th:only-of-type {\n",
       "        vertical-align: middle;\n",
       "    }\n",
       "\n",
       "    .dataframe tbody tr th {\n",
       "        vertical-align: top;\n",
       "    }\n",
       "\n",
       "    .dataframe thead th {\n",
       "        text-align: right;\n",
       "    }\n",
       "</style>\n",
       "<table border=\"1\" class=\"dataframe\">\n",
       "  <thead>\n",
       "    <tr style=\"text-align: right;\">\n",
       "      <th></th>\n",
       "      <th>date</th>\n",
       "      <th>tweet</th>\n",
       "      <th>username</th>\n",
       "      <th>link</th>\n",
       "      <th>nlikes</th>\n",
       "      <th>nreplies</th>\n",
       "      <th>nretweets</th>\n",
       "      <th>sentiment</th>\n",
       "    </tr>\n",
       "  </thead>\n",
       "  <tbody>\n",
       "    <tr>\n",
       "      <th>0</th>\n",
       "      <td>2020-02-28</td>\n",
       "      <td>For everyone comparing COVID-19 to the flu, just a reminder that even with vaccines the flu kills tens of thousands a year. Now imagine a more dea...</td>\n",
       "      <td>MonaIbrahim</td>\n",
       "      <td>https://twitter.com/MonaIbrahim/status/1233542386669641728</td>\n",
       "      <td>3</td>\n",
       "      <td>0</td>\n",
       "      <td>0</td>\n",
       "      <td>negative</td>\n",
       "    </tr>\n",
       "    <tr>\n",
       "      <th>1</th>\n",
       "      <td>2020-02-28</td>\n",
       "      <td>“Perhaps more than any other type of medicine, the success of a #vaccine depends on the cooperation of everyone. To protect those who can’t have a...</td>\n",
       "      <td>Moratel_Entles</td>\n",
       "      <td>https://twitter.com/Moratel_Entles/status/1233542196193824769</td>\n",
       "      <td>1</td>\n",
       "      <td>0</td>\n",
       "      <td>0</td>\n",
       "      <td>positive</td>\n",
       "    </tr>\n",
       "    <tr>\n",
       "      <th>2</th>\n",
       "      <td>2020-02-28</td>\n",
       "      <td>Provide pharmaceutical companies with the opportunity to develop this vaccine and drug as soon as possible and to reach mass production. As you kn...</td>\n",
       "      <td>help_4_Iranian</td>\n",
       "      <td>https://twitter.com/help_4_Iranian/status/1233542052161507328</td>\n",
       "      <td>0</td>\n",
       "      <td>0</td>\n",
       "      <td>0</td>\n",
       "      <td>positive</td>\n",
       "    </tr>\n",
       "    <tr>\n",
       "      <th>3</th>\n",
       "      <td>2020-02-28</td>\n",
       "      <td>From John's Hopkins: 1)  Immediate risk of COVID-19 remains low in the U.S.  The best way to protect yourself is by practicing the same precaution...</td>\n",
       "      <td>TruthFreedom17</td>\n",
       "      <td>https://twitter.com/TruthFreedom17/status/1233541922108694528</td>\n",
       "      <td>1</td>\n",
       "      <td>1</td>\n",
       "      <td>0</td>\n",
       "      <td>positive</td>\n",
       "    </tr>\n",
       "    <tr>\n",
       "      <th>4</th>\n",
       "      <td>2020-02-28</td>\n",
       "      <td>If the #stockmarkets keep falling - how confident will you be about a #vaccine for #COVID-19 and funds being available for their development?</td>\n",
       "      <td>notarywise</td>\n",
       "      <td>https://twitter.com/notarywise/status/1233541049903177728</td>\n",
       "      <td>0</td>\n",
       "      <td>0</td>\n",
       "      <td>0</td>\n",
       "      <td>positive</td>\n",
       "    </tr>\n",
       "  </tbody>\n",
       "</table>\n",
       "</div>"
      ],
      "text/plain": [
       "        date  \\\n",
       "0 2020-02-28   \n",
       "1 2020-02-28   \n",
       "2 2020-02-28   \n",
       "3 2020-02-28   \n",
       "4 2020-02-28   \n",
       "\n",
       "                                                                                                                                                   tweet  \\\n",
       "0  For everyone comparing COVID-19 to the flu, just a reminder that even with vaccines the flu kills tens of thousands a year. Now imagine a more dea...   \n",
       "1  “Perhaps more than any other type of medicine, the success of a #vaccine depends on the cooperation of everyone. To protect those who can’t have a...   \n",
       "2  Provide pharmaceutical companies with the opportunity to develop this vaccine and drug as soon as possible and to reach mass production. As you kn...   \n",
       "3  From John's Hopkins: 1)  Immediate risk of COVID-19 remains low in the U.S.  The best way to protect yourself is by practicing the same precaution...   \n",
       "4          If the #stockmarkets keep falling - how confident will you be about a #vaccine for #COVID-19 and funds being available for their development?   \n",
       "\n",
       "         username  \\\n",
       "0     MonaIbrahim   \n",
       "1  Moratel_Entles   \n",
       "2  help_4_Iranian   \n",
       "3  TruthFreedom17   \n",
       "4      notarywise   \n",
       "\n",
       "                                                            link  nlikes  \\\n",
       "0     https://twitter.com/MonaIbrahim/status/1233542386669641728       3   \n",
       "1  https://twitter.com/Moratel_Entles/status/1233542196193824769       1   \n",
       "2  https://twitter.com/help_4_Iranian/status/1233542052161507328       0   \n",
       "3  https://twitter.com/TruthFreedom17/status/1233541922108694528       1   \n",
       "4      https://twitter.com/notarywise/status/1233541049903177728       0   \n",
       "\n",
       "   nreplies  nretweets sentiment  \n",
       "0         0          0  negative  \n",
       "1         0          0  positive  \n",
       "2         0          0  positive  \n",
       "3         1          0  positive  \n",
       "4         0          0  positive  "
      ]
     },
     "execution_count": 17,
     "metadata": {},
     "output_type": "execute_result"
    }
   ],
   "source": [
    "df.head()"
   ]
  },
  {
   "cell_type": "code",
   "execution_count": 18,
   "metadata": {},
   "outputs": [
    {
     "data": {
      "text/html": [
       "<div>\n",
       "<style scoped>\n",
       "    .dataframe tbody tr th:only-of-type {\n",
       "        vertical-align: middle;\n",
       "    }\n",
       "\n",
       "    .dataframe tbody tr th {\n",
       "        vertical-align: top;\n",
       "    }\n",
       "\n",
       "    .dataframe thead th {\n",
       "        text-align: right;\n",
       "    }\n",
       "</style>\n",
       "<table border=\"1\" class=\"dataframe\">\n",
       "  <thead>\n",
       "    <tr style=\"text-align: right;\">\n",
       "      <th></th>\n",
       "      <th>date</th>\n",
       "      <th>tweet</th>\n",
       "      <th>username</th>\n",
       "      <th>link</th>\n",
       "      <th>nlikes</th>\n",
       "      <th>nreplies</th>\n",
       "      <th>nretweets</th>\n",
       "      <th>sentiment</th>\n",
       "    </tr>\n",
       "  </thead>\n",
       "  <tbody>\n",
       "    <tr>\n",
       "      <th>77254</th>\n",
       "      <td>2020-12-12</td>\n",
       "      <td>Although it’s great news about the #Covid vaccine, it will take time to roll it out across the country. So it's as important as ever to follow the...</td>\n",
       "      <td>coventrycc</td>\n",
       "      <td>https://twitter.com/coventrycc/status/1337751621304987648</td>\n",
       "      <td>0</td>\n",
       "      <td>0</td>\n",
       "      <td>0</td>\n",
       "      <td>positive</td>\n",
       "    </tr>\n",
       "    <tr>\n",
       "      <th>77255</th>\n",
       "      <td>2020-12-12</td>\n",
       "      <td>\"FDA approves Pfizer’s COVID-19 vaccine for emergency distribution in the US\"   https://t.co/aTAzNLRBcw</td>\n",
       "      <td>gloriahunterlov</td>\n",
       "      <td>https://twitter.com/gloriahunterlov/status/1337751614032064519</td>\n",
       "      <td>0</td>\n",
       "      <td>0</td>\n",
       "      <td>0</td>\n",
       "      <td>neutral</td>\n",
       "    </tr>\n",
       "    <tr>\n",
       "      <th>77256</th>\n",
       "      <td>2020-12-12</td>\n",
       "      <td>Walmart is prepping its 5,000-plus pharmacies to receive doses of the COVID-19 vaccine once it is released in the U.S,  The retailer is also imple...</td>\n",
       "      <td>O_Laborne</td>\n",
       "      <td>https://twitter.com/O_Laborne/status/1337751606142652419</td>\n",
       "      <td>1</td>\n",
       "      <td>0</td>\n",
       "      <td>0</td>\n",
       "      <td>neutral</td>\n",
       "    </tr>\n",
       "    <tr>\n",
       "      <th>77257</th>\n",
       "      <td>2020-12-12</td>\n",
       "      <td>#GAHaveYouHeard FACT: There is no COVID-19 virus in the vaccine. The vaccine imitates the infection so that our bodies create the antibody defense...</td>\n",
       "      <td>GaDPH</td>\n",
       "      <td>https://twitter.com/GaDPH/status/1337751601658933251</td>\n",
       "      <td>11</td>\n",
       "      <td>0</td>\n",
       "      <td>6</td>\n",
       "      <td>negative</td>\n",
       "    </tr>\n",
       "    <tr>\n",
       "      <th>77258</th>\n",
       "      <td>2020-12-12</td>\n",
       "      <td>A COVID-19 response that prioritizes health care workers includes: 💉 Ensuring they are 1st in line for treatment and a future vaccine 🏋️‍♀‍ Provid...</td>\n",
       "      <td>myrighttochoice</td>\n",
       "      <td>https://twitter.com/myrighttochoice/status/1337751601109491714</td>\n",
       "      <td>1</td>\n",
       "      <td>0</td>\n",
       "      <td>0</td>\n",
       "      <td>positive</td>\n",
       "    </tr>\n",
       "  </tbody>\n",
       "</table>\n",
       "</div>"
      ],
      "text/plain": [
       "            date  \\\n",
       "77254 2020-12-12   \n",
       "77255 2020-12-12   \n",
       "77256 2020-12-12   \n",
       "77257 2020-12-12   \n",
       "77258 2020-12-12   \n",
       "\n",
       "                                                                                                                                                       tweet  \\\n",
       "77254  Although it’s great news about the #Covid vaccine, it will take time to roll it out across the country. So it's as important as ever to follow the...   \n",
       "77255                                                \"FDA approves Pfizer’s COVID-19 vaccine for emergency distribution in the US\"   https://t.co/aTAzNLRBcw   \n",
       "77256  Walmart is prepping its 5,000-plus pharmacies to receive doses of the COVID-19 vaccine once it is released in the U.S,  The retailer is also imple...   \n",
       "77257  #GAHaveYouHeard FACT: There is no COVID-19 virus in the vaccine. The vaccine imitates the infection so that our bodies create the antibody defense...   \n",
       "77258  A COVID-19 response that prioritizes health care workers includes: 💉 Ensuring they are 1st in line for treatment and a future vaccine 🏋️‍♀‍ Provid...   \n",
       "\n",
       "              username  \\\n",
       "77254       coventrycc   \n",
       "77255  gloriahunterlov   \n",
       "77256        O_Laborne   \n",
       "77257            GaDPH   \n",
       "77258  myrighttochoice   \n",
       "\n",
       "                                                                 link  nlikes  \\\n",
       "77254       https://twitter.com/coventrycc/status/1337751621304987648       0   \n",
       "77255  https://twitter.com/gloriahunterlov/status/1337751614032064519       0   \n",
       "77256        https://twitter.com/O_Laborne/status/1337751606142652419       1   \n",
       "77257            https://twitter.com/GaDPH/status/1337751601658933251      11   \n",
       "77258  https://twitter.com/myrighttochoice/status/1337751601109491714       1   \n",
       "\n",
       "       nreplies  nretweets sentiment  \n",
       "77254         0          0  positive  \n",
       "77255         0          0   neutral  \n",
       "77256         0          0   neutral  \n",
       "77257         0          6  negative  \n",
       "77258         0          0  positive  "
      ]
     },
     "execution_count": 18,
     "metadata": {},
     "output_type": "execute_result"
    }
   ],
   "source": [
    "df.tail()"
   ]
  },
  {
   "cell_type": "markdown",
   "metadata": {},
   "source": [
    "## SpaCy NLP Preprocessing"
   ]
  },
  {
   "cell_type": "markdown",
   "metadata": {},
   "source": [
    "#### Tokenizing"
   ]
  },
  {
   "cell_type": "code",
   "execution_count": 29,
   "metadata": {},
   "outputs": [
    {
     "name": "stdout",
     "output_type": "stream",
     "text": [
      "For everyone comparing COVID-19 to the flu, just a reminder that even with vaccines the flu kills tens of thousands a year. Now imagine a more deadly virus with no vaccine or assurance that any vaccine developed will be affordable and hi! Welcome to the pandemic! \n",
      "\n",
      "negative\n"
     ]
    }
   ],
   "source": [
    "# while the sentiment in this tweet is properly classified as 'negative',\n",
    "# this person is likely in favor of taking a vaccine, and the negative \n",
    "# sentiment is more broadly directed at the context of COVID-19\n",
    "print(df.loc[0]['tweet'],'\\n')\n",
    "print(df.loc[0]['sentiment'])"
   ]
  },
  {
   "cell_type": "code",
   "execution_count": 25,
   "metadata": {},
   "outputs": [
    {
     "name": "stdout",
     "output_type": "stream",
     "text": [
      "['For', 'everyone', 'comparing', 'COVID-19', 'to', 'the', 'flu', ',', 'just', 'a', 'reminder', 'that', 'even', 'with', 'vaccines', 'the', 'flu', 'kills', 'tens', 'of', 'thousands', 'a', 'year', '.', 'Now', 'imagine', 'a', 'more', 'deadly', 'virus', 'with', 'no', 'vaccine', 'or', 'assurance', 'that', 'any', 'vaccine', 'developed', 'will', 'be', 'affordable', 'and', 'hi', '!', 'Welcome', 'to', 'the', 'pandemic', '!']\n"
     ]
    }
   ],
   "source": [
    "# instantiate spaCy English object\n",
    "nlp = English()\n",
    "\n",
    "text = df.loc[0]['tweet']\n",
    "\n",
    "my_doc = nlp(text)\n",
    "\n",
    "token_list = []\n",
    "for token in my_doc:\n",
    "    token_list.append(token.text)\n",
    "print(token_list)"
   ]
  },
  {
   "cell_type": "markdown",
   "metadata": {},
   "source": [
    "#### Stopwords"
   ]
  },
  {
   "cell_type": "code",
   "execution_count": 31,
   "metadata": {},
   "outputs": [
    {
     "name": "stdout",
     "output_type": "stream",
     "text": [
      "[comparing, COVID-19, flu, ,, reminder, vaccines, flu, kills, tens, thousands, year, ., imagine, deadly, virus, vaccine, assurance, vaccine, developed, affordable, hi, !, Welcome, pandemic, !]\n"
     ]
    }
   ],
   "source": [
    "stopwords = spacy.lang.en.stop_words.STOP_WORDS\n",
    "\n",
    "filtered_sent = []\n",
    "\n",
    "doc = nlp(text)\n",
    "\n",
    "for word in doc:\n",
    "    if word.is_stop == False:\n",
    "        filtered_sent.append(word)\n",
    "print(filtered_sent)"
   ]
  },
  {
   "cell_type": "markdown",
   "metadata": {},
   "source": [
    "#### Lemmatization"
   ]
  },
  {
   "cell_type": "code",
   "execution_count": 35,
   "metadata": {},
   "outputs": [
    {
     "name": "stdout",
     "output_type": "stream",
     "text": [
      "comparing compare\n",
      "COVID-19 COVID-19\n",
      "flu flu\n",
      ", ,\n",
      "reminder reminder\n",
      "vaccines vaccine\n",
      "flu flu\n",
      "kills kill\n",
      "tens ten\n",
      "thousands thousand\n",
      "year year\n",
      ". .\n",
      "imagine imagine\n",
      "deadly deadly\n",
      "virus virus\n",
      "vaccine vaccine\n",
      "assurance assurance\n",
      "vaccine vaccine\n",
      "developed develope\n",
      "affordable affordable\n",
      "hi hello\n",
      "! !\n",
      "Welcome Welcome\n",
      "pandemic pandemic\n",
      "! !\n"
     ]
    }
   ],
   "source": [
    "for word in filtered_sent:\n",
    "    print(word.text, word.lemma_)"
   ]
  },
  {
   "cell_type": "code",
   "execution_count": 38,
   "metadata": {},
   "outputs": [
    {
     "name": "stdout",
     "output_type": "stream",
     "text": [
      "For \n",
      "everyone \n",
      "comparing \n",
      "COVID-19 \n",
      "to \n",
      "the \n",
      "flu \n",
      ", \n",
      "just \n",
      "a \n",
      "reminder \n",
      "that \n",
      "even \n",
      "with \n",
      "vaccines \n",
      "the \n",
      "flu \n",
      "kills \n",
      "tens \n",
      "of \n",
      "thousands \n",
      "a \n",
      "year \n",
      ". \n",
      "Now \n",
      "imagine \n",
      "a \n",
      "more \n",
      "deadly \n",
      "virus \n",
      "with \n",
      "no \n",
      "vaccine \n",
      "or \n",
      "assurance \n",
      "that \n",
      "any \n",
      "vaccine \n",
      "developed \n",
      "will \n",
      "be \n",
      "affordable \n",
      "and \n",
      "hi \n",
      "! \n",
      "Welcome \n",
      "to \n",
      "the \n",
      "pandemic \n",
      "! \n"
     ]
    }
   ],
   "source": [
    "nlp = en_core_web_sm.load()\n",
    "\n",
    "\n",
    "\n",
    "for word in my_doc:\n",
    "    print(word.text, word.pos_)"
   ]
  },
  {
   "cell_type": "markdown",
   "metadata": {},
   "source": [
    "## [Stackoverflow](https://stackoverflow.com/questions/62139308/preprocessing-tweets-remove-and-eliminate-stop-words-and-remove-user-from)"
   ]
  },
  {
   "cell_type": "code",
   "execution_count": null,
   "metadata": {},
   "outputs": [],
   "source": [
    "nlp = spacy.load('en')"
   ]
  },
  {
   "cell_type": "code",
   "execution_count": null,
   "metadata": {},
   "outputs": [],
   "source": [
    "stop_words = [w.lower() for w in stopwords.words()]"
   ]
  },
  {
   "cell_type": "code",
   "execution_count": null,
   "metadata": {},
   "outputs": [],
   "source": []
  },
  {
   "cell_type": "code",
   "execution_count": null,
   "metadata": {},
   "outputs": [],
   "source": []
  },
  {
   "cell_type": "code",
   "execution_count": null,
   "metadata": {},
   "outputs": [],
   "source": []
  },
  {
   "cell_type": "code",
   "execution_count": null,
   "metadata": {},
   "outputs": [],
   "source": []
  },
  {
   "cell_type": "code",
   "execution_count": null,
   "metadata": {},
   "outputs": [],
   "source": []
  }
 ],
 "metadata": {
  "kernelspec": {
   "display_name": "Python 3",
   "language": "python",
   "name": "python3"
  },
  "language_info": {
   "codemirror_mode": {
    "name": "ipython",
    "version": 3
   },
   "file_extension": ".py",
   "mimetype": "text/x-python",
   "name": "python",
   "nbconvert_exporter": "python",
   "pygments_lexer": "ipython3",
   "version": "3.6.9"
  }
 },
 "nbformat": 4,
 "nbformat_minor": 4
}
