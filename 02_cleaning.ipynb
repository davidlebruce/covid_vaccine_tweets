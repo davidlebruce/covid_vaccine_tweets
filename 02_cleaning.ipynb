{
 "cells": [
  {
   "cell_type": "markdown",
   "metadata": {},
   "source": [
    "# <ins>Sentiment Analysis: \"Covid Vaccine\" on Twitter</ins>\n",
    "## Data Cleaning\n",
    "\n",
    "In this notebook, I pick up with the data I scraped from Twitter using [Twint](https://github.com/twintproject/twint) in my [web_scraping.ipynb](https://github.com/davidlebruce/covid_vaccine_tweets/blob/main/01_web_scraping.ipynb) notebook. The only packages I used for this step of data cleaning were Pandas and datetime. I used Pandas to identify the columns with mostly missing values and those which might be helpful for modeling, as well as the rows which contained tweets in languages other than English and any duplicates. With datetime I was able to convert the date column into a datetime object and drop the timestamp. The process and code are outlined below. Should you want to skip ahead to the exploratory data analysis, you can follow the link to the next notebook, [EDA](https://github.com/davidlebruce/covid_vaccine_tweets/blob/main/03_EDA.ipynb)."
   ]
  },
  {
   "cell_type": "markdown",
   "metadata": {},
   "source": [
    "## Read in CSV and Look at Data"
   ]
  },
  {
   "cell_type": "code",
   "execution_count": 1,
   "metadata": {},
   "outputs": [],
   "source": [
    "import pandas as pd\n",
    "import datetime"
   ]
  },
  {
   "cell_type": "code",
   "execution_count": 2,
   "metadata": {},
   "outputs": [],
   "source": [
    "# read in data\n",
    "df = pd.read_csv('./data/covid_vaccine_tweets.csv')"
   ]
  },
  {
   "cell_type": "code",
   "execution_count": 3,
   "metadata": {},
   "outputs": [
    {
     "data": {
      "text/html": [
       "<div>\n",
       "<style scoped>\n",
       "    .dataframe tbody tr th:only-of-type {\n",
       "        vertical-align: middle;\n",
       "    }\n",
       "\n",
       "    .dataframe tbody tr th {\n",
       "        vertical-align: top;\n",
       "    }\n",
       "\n",
       "    .dataframe thead th {\n",
       "        text-align: right;\n",
       "    }\n",
       "</style>\n",
       "<table border=\"1\" class=\"dataframe\">\n",
       "  <thead>\n",
       "    <tr style=\"text-align: right;\">\n",
       "      <th></th>\n",
       "      <th>Unnamed: 0</th>\n",
       "      <th>id</th>\n",
       "      <th>conversation_id</th>\n",
       "      <th>created_at</th>\n",
       "      <th>date</th>\n",
       "      <th>timezone</th>\n",
       "      <th>place</th>\n",
       "      <th>tweet</th>\n",
       "      <th>language</th>\n",
       "      <th>hashtags</th>\n",
       "      <th>...</th>\n",
       "      <th>geo</th>\n",
       "      <th>source</th>\n",
       "      <th>user_rt_id</th>\n",
       "      <th>user_rt</th>\n",
       "      <th>retweet_id</th>\n",
       "      <th>reply_to</th>\n",
       "      <th>retweet_date</th>\n",
       "      <th>translate</th>\n",
       "      <th>trans_src</th>\n",
       "      <th>trans_dest</th>\n",
       "    </tr>\n",
       "  </thead>\n",
       "  <tbody>\n",
       "    <tr>\n",
       "      <th>0</th>\n",
       "      <td>0</td>\n",
       "      <td>1233542386669641728</td>\n",
       "      <td>1233542386669641728</td>\n",
       "      <td>1.582934e+12</td>\n",
       "      <td>2020-02-28 18:59:57</td>\n",
       "      <td>-500</td>\n",
       "      <td>NaN</td>\n",
       "      <td>For everyone comparing COVID-19 to the flu, ju...</td>\n",
       "      <td>en</td>\n",
       "      <td>[]</td>\n",
       "      <td>...</td>\n",
       "      <td>NaN</td>\n",
       "      <td>NaN</td>\n",
       "      <td>NaN</td>\n",
       "      <td>NaN</td>\n",
       "      <td>NaN</td>\n",
       "      <td>[]</td>\n",
       "      <td>NaN</td>\n",
       "      <td>NaN</td>\n",
       "      <td>NaN</td>\n",
       "      <td>NaN</td>\n",
       "    </tr>\n",
       "    <tr>\n",
       "      <th>1</th>\n",
       "      <td>1</td>\n",
       "      <td>1233542196193824769</td>\n",
       "      <td>1233542196193824769</td>\n",
       "      <td>1.582934e+12</td>\n",
       "      <td>2020-02-28 18:59:12</td>\n",
       "      <td>-500</td>\n",
       "      <td>NaN</td>\n",
       "      <td>“Perhaps more than any other type of medicine,...</td>\n",
       "      <td>en</td>\n",
       "      <td>['vaccine', 'covid_19', 'coronavirus']</td>\n",
       "      <td>...</td>\n",
       "      <td>NaN</td>\n",
       "      <td>NaN</td>\n",
       "      <td>NaN</td>\n",
       "      <td>NaN</td>\n",
       "      <td>NaN</td>\n",
       "      <td>[]</td>\n",
       "      <td>NaN</td>\n",
       "      <td>NaN</td>\n",
       "      <td>NaN</td>\n",
       "      <td>NaN</td>\n",
       "    </tr>\n",
       "    <tr>\n",
       "      <th>2</th>\n",
       "      <td>2</td>\n",
       "      <td>1233542052161507328</td>\n",
       "      <td>1233542052161507328</td>\n",
       "      <td>1.582934e+12</td>\n",
       "      <td>2020-02-28 18:58:37</td>\n",
       "      <td>-500</td>\n",
       "      <td>NaN</td>\n",
       "      <td>Provide pharmaceutical companies with the oppo...</td>\n",
       "      <td>en</td>\n",
       "      <td>[]</td>\n",
       "      <td>...</td>\n",
       "      <td>NaN</td>\n",
       "      <td>NaN</td>\n",
       "      <td>NaN</td>\n",
       "      <td>NaN</td>\n",
       "      <td>NaN</td>\n",
       "      <td>[]</td>\n",
       "      <td>NaN</td>\n",
       "      <td>NaN</td>\n",
       "      <td>NaN</td>\n",
       "      <td>NaN</td>\n",
       "    </tr>\n",
       "    <tr>\n",
       "      <th>3</th>\n",
       "      <td>3</td>\n",
       "      <td>1233541922108694528</td>\n",
       "      <td>1233541922108694528</td>\n",
       "      <td>1.582934e+12</td>\n",
       "      <td>2020-02-28 18:58:06</td>\n",
       "      <td>-500</td>\n",
       "      <td>NaN</td>\n",
       "      <td>From John's Hopkins: 1)  Immediate risk of COV...</td>\n",
       "      <td>en</td>\n",
       "      <td>[]</td>\n",
       "      <td>...</td>\n",
       "      <td>NaN</td>\n",
       "      <td>NaN</td>\n",
       "      <td>NaN</td>\n",
       "      <td>NaN</td>\n",
       "      <td>NaN</td>\n",
       "      <td>[]</td>\n",
       "      <td>NaN</td>\n",
       "      <td>NaN</td>\n",
       "      <td>NaN</td>\n",
       "      <td>NaN</td>\n",
       "    </tr>\n",
       "    <tr>\n",
       "      <th>4</th>\n",
       "      <td>4</td>\n",
       "      <td>1233541049903177728</td>\n",
       "      <td>1233541049903177728</td>\n",
       "      <td>1.582934e+12</td>\n",
       "      <td>2020-02-28 18:54:39</td>\n",
       "      <td>-500</td>\n",
       "      <td>NaN</td>\n",
       "      <td>If the #stockmarkets keep falling - how confid...</td>\n",
       "      <td>en</td>\n",
       "      <td>['stockmarkets', 'vaccine', 'covid']</td>\n",
       "      <td>...</td>\n",
       "      <td>NaN</td>\n",
       "      <td>NaN</td>\n",
       "      <td>NaN</td>\n",
       "      <td>NaN</td>\n",
       "      <td>NaN</td>\n",
       "      <td>[]</td>\n",
       "      <td>NaN</td>\n",
       "      <td>NaN</td>\n",
       "      <td>NaN</td>\n",
       "      <td>NaN</td>\n",
       "    </tr>\n",
       "  </tbody>\n",
       "</table>\n",
       "<p>5 rows × 39 columns</p>\n",
       "</div>"
      ],
      "text/plain": [
       "   Unnamed: 0                   id      conversation_id    created_at  \\\n",
       "0           0  1233542386669641728  1233542386669641728  1.582934e+12   \n",
       "1           1  1233542196193824769  1233542196193824769  1.582934e+12   \n",
       "2           2  1233542052161507328  1233542052161507328  1.582934e+12   \n",
       "3           3  1233541922108694528  1233541922108694528  1.582934e+12   \n",
       "4           4  1233541049903177728  1233541049903177728  1.582934e+12   \n",
       "\n",
       "                  date  timezone place  \\\n",
       "0  2020-02-28 18:59:57      -500   NaN   \n",
       "1  2020-02-28 18:59:12      -500   NaN   \n",
       "2  2020-02-28 18:58:37      -500   NaN   \n",
       "3  2020-02-28 18:58:06      -500   NaN   \n",
       "4  2020-02-28 18:54:39      -500   NaN   \n",
       "\n",
       "                                               tweet language  \\\n",
       "0  For everyone comparing COVID-19 to the flu, ju...       en   \n",
       "1  “Perhaps more than any other type of medicine,...       en   \n",
       "2  Provide pharmaceutical companies with the oppo...       en   \n",
       "3  From John's Hopkins: 1)  Immediate risk of COV...       en   \n",
       "4  If the #stockmarkets keep falling - how confid...       en   \n",
       "\n",
       "                                 hashtags  ... geo  source  user_rt_id  \\\n",
       "0                                      []  ... NaN     NaN         NaN   \n",
       "1  ['vaccine', 'covid_19', 'coronavirus']  ... NaN     NaN         NaN   \n",
       "2                                      []  ... NaN     NaN         NaN   \n",
       "3                                      []  ... NaN     NaN         NaN   \n",
       "4    ['stockmarkets', 'vaccine', 'covid']  ... NaN     NaN         NaN   \n",
       "\n",
       "  user_rt retweet_id  reply_to  retweet_date translate trans_src trans_dest  \n",
       "0     NaN        NaN        []           NaN       NaN       NaN        NaN  \n",
       "1     NaN        NaN        []           NaN       NaN       NaN        NaN  \n",
       "2     NaN        NaN        []           NaN       NaN       NaN        NaN  \n",
       "3     NaN        NaN        []           NaN       NaN       NaN        NaN  \n",
       "4     NaN        NaN        []           NaN       NaN       NaN        NaN  \n",
       "\n",
       "[5 rows x 39 columns]"
      ]
     },
     "execution_count": 3,
     "metadata": {},
     "output_type": "execute_result"
    }
   ],
   "source": [
    "df.head()"
   ]
  },
  {
   "cell_type": "code",
   "execution_count": 4,
   "metadata": {},
   "outputs": [
    {
     "data": {
      "text/plain": [
       "(80730, 39)"
      ]
     },
     "execution_count": 4,
     "metadata": {},
     "output_type": "execute_result"
    }
   ],
   "source": [
    "# shape to begin with\n",
    "df.shape"
   ]
  },
  {
   "cell_type": "code",
   "execution_count": 5,
   "metadata": {},
   "outputs": [
    {
     "data": {
      "text/plain": [
       "Index(['Unnamed: 0', 'id', 'conversation_id', 'created_at', 'date', 'timezone',\n",
       "       'place', 'tweet', 'language', 'hashtags', 'cashtags', 'user_id',\n",
       "       'user_id_str', 'username', 'name', 'day', 'hour', 'link', 'urls',\n",
       "       'photos', 'video', 'thumbnail', 'retweet', 'nlikes', 'nreplies',\n",
       "       'nretweets', 'quote_url', 'search', 'near', 'geo', 'source',\n",
       "       'user_rt_id', 'user_rt', 'retweet_id', 'reply_to', 'retweet_date',\n",
       "       'translate', 'trans_src', 'trans_dest'],\n",
       "      dtype='object')"
      ]
     },
     "execution_count": 5,
     "metadata": {},
     "output_type": "execute_result"
    }
   ],
   "source": [
    "# original columns\n",
    "df.columns"
   ]
  },
  {
   "cell_type": "markdown",
   "metadata": {},
   "source": [
    "## Check for NaNs and Abnormalities"
   ]
  },
  {
   "cell_type": "code",
   "execution_count": 6,
   "metadata": {},
   "outputs": [
    {
     "data": {
      "text/plain": [
       "Unnamed: 0             0\n",
       "id                     0\n",
       "conversation_id        0\n",
       "created_at             0\n",
       "date                   0\n",
       "timezone               0\n",
       "place              80699\n",
       "tweet                  0\n",
       "language               0\n",
       "hashtags               0\n",
       "cashtags               0\n",
       "user_id                0\n",
       "user_id_str            0\n",
       "username               0\n",
       "name                   3\n",
       "day                    0\n",
       "hour                   0\n",
       "link                   0\n",
       "urls                   0\n",
       "photos                 0\n",
       "video                  0\n",
       "thumbnail          71282\n",
       "retweet                0\n",
       "nlikes                 0\n",
       "nreplies               0\n",
       "nretweets              0\n",
       "quote_url          75067\n",
       "search                 0\n",
       "near               80730\n",
       "geo                80730\n",
       "source             80730\n",
       "user_rt_id         80730\n",
       "user_rt            80730\n",
       "retweet_id         80730\n",
       "reply_to               0\n",
       "retweet_date       80730\n",
       "translate          80730\n",
       "trans_src          80730\n",
       "trans_dest         80730\n",
       "dtype: int64"
      ]
     },
     "execution_count": 6,
     "metadata": {},
     "output_type": "execute_result"
    }
   ],
   "source": [
    "# check columns for null values\n",
    "df.isna().sum()"
   ]
  },
  {
   "cell_type": "code",
   "execution_count": 7,
   "metadata": {},
   "outputs": [
    {
     "data": {
      "text/plain": [
       "en     78136\n",
       "und      503\n",
       "tl       426\n",
       "ja       214\n",
       "fr       203\n",
       "Name: language, dtype: int64"
      ]
     },
     "execution_count": 7,
     "metadata": {},
     "output_type": "execute_result"
    }
   ],
   "source": [
    "# not all tweets are in English as the scraper had specified\n",
    "df.language.value_counts()[:5]"
   ]
  },
  {
   "cell_type": "code",
   "execution_count": 8,
   "metadata": {},
   "outputs": [],
   "source": [
    "# remove non-English tweets\n",
    "df = df[df['language'] == 'en']"
   ]
  },
  {
   "cell_type": "code",
   "execution_count": 9,
   "metadata": {},
   "outputs": [
    {
     "data": {
      "text/plain": [
       "-500    78136\n",
       "Name: timezone, dtype: int64"
      ]
     },
     "execution_count": 9,
     "metadata": {},
     "output_type": "execute_result"
    }
   ],
   "source": [
    "# all tweets appear to be scraped from Eastern timezone\n",
    "df.timezone.value_counts()"
   ]
  },
  {
   "cell_type": "code",
   "execution_count": 10,
   "metadata": {},
   "outputs": [
    {
     "data": {
      "text/plain": [
       "False    78136\n",
       "Name: retweet, dtype: int64"
      ]
     },
     "execution_count": 10,
     "metadata": {},
     "output_type": "execute_result"
    }
   ],
   "source": [
    "# all False values for 'retweet'\n",
    "df.retweet.value_counts()"
   ]
  },
  {
   "cell_type": "markdown",
   "metadata": {},
   "source": [
    "## Drop Unnecessary Columns"
   ]
  },
  {
   "cell_type": "code",
   "execution_count": 11,
   "metadata": {},
   "outputs": [],
   "source": [
    "# drop columns full of null values, and 'Unnamed: 0'\n",
    "df = df.drop(labels=['Unnamed: 0', 'id', 'conversation_id', 'created_at', 'timezone',\n",
    "       'place', 'language', 'hashtags', 'cashtags', 'user_id', 'user_id_str', 'name',\n",
    "       'day', 'hour', 'urls', 'photos', 'video', 'thumbnail', 'retweet', 'quote_url', \n",
    "       'search', 'near', 'geo', 'source', 'user_rt_id', 'user_rt', 'retweet_id', \n",
    "       'reply_to', 'retweet_date', 'translate', 'trans_src', 'trans_dest'], axis=1)"
   ]
  },
  {
   "cell_type": "code",
   "execution_count": 12,
   "metadata": {},
   "outputs": [
    {
     "data": {
      "text/plain": [
       "Index(['date', 'tweet', 'username', 'link', 'nlikes', 'nreplies', 'nretweets'], dtype='object')"
      ]
     },
     "execution_count": 12,
     "metadata": {},
     "output_type": "execute_result"
    }
   ],
   "source": [
    "# remaining column names\n",
    "df.columns"
   ]
  },
  {
   "cell_type": "code",
   "execution_count": 13,
   "metadata": {},
   "outputs": [
    {
     "data": {
      "text/plain": [
       "(78136, 7)"
      ]
     },
     "execution_count": 13,
     "metadata": {},
     "output_type": "execute_result"
    }
   ],
   "source": [
    "# check the shape\n",
    "df.shape"
   ]
  },
  {
   "cell_type": "markdown",
   "metadata": {},
   "source": [
    "## Check and Update Datatypes"
   ]
  },
  {
   "cell_type": "code",
   "execution_count": 14,
   "metadata": {
    "scrolled": true
   },
   "outputs": [
    {
     "name": "stdout",
     "output_type": "stream",
     "text": [
      "<class 'pandas.core.frame.DataFrame'>\n",
      "Int64Index: 78136 entries, 0 to 80729\n",
      "Data columns (total 7 columns):\n",
      "date         78136 non-null object\n",
      "tweet        78136 non-null object\n",
      "username     78136 non-null object\n",
      "link         78136 non-null object\n",
      "nlikes       78136 non-null int64\n",
      "nreplies     78136 non-null int64\n",
      "nretweets    78136 non-null int64\n",
      "dtypes: int64(3), object(4)\n",
      "memory usage: 4.8+ MB\n"
     ]
    }
   ],
   "source": [
    "# checking data types\n",
    "df.info()"
   ]
  },
  {
   "cell_type": "code",
   "execution_count": 15,
   "metadata": {},
   "outputs": [],
   "source": [
    "# convert date to datetime object\n",
    "df['date'] = df['date'].apply(lambda x: datetime.datetime.strptime(x, '%Y-%m-%d %H:%M:%S'))\n",
    "\n",
    "# convert datetime to string without timestamp\n",
    "df['date'] = df['date'].apply(lambda x: x.strftime('%Y-%m-%d'))\n",
    "\n",
    "# convert date back to datetime\n",
    "df['date'] = df['date'].apply(lambda x: datetime.datetime.strptime(x, '%Y-%m-%d'))"
   ]
  },
  {
   "cell_type": "code",
   "execution_count": 16,
   "metadata": {},
   "outputs": [
    {
     "data": {
      "text/html": [
       "<div>\n",
       "<style scoped>\n",
       "    .dataframe tbody tr th:only-of-type {\n",
       "        vertical-align: middle;\n",
       "    }\n",
       "\n",
       "    .dataframe tbody tr th {\n",
       "        vertical-align: top;\n",
       "    }\n",
       "\n",
       "    .dataframe thead th {\n",
       "        text-align: right;\n",
       "    }\n",
       "</style>\n",
       "<table border=\"1\" class=\"dataframe\">\n",
       "  <thead>\n",
       "    <tr style=\"text-align: right;\">\n",
       "      <th></th>\n",
       "      <th>date</th>\n",
       "      <th>tweet</th>\n",
       "      <th>username</th>\n",
       "      <th>link</th>\n",
       "      <th>nlikes</th>\n",
       "      <th>nreplies</th>\n",
       "      <th>nretweets</th>\n",
       "    </tr>\n",
       "  </thead>\n",
       "  <tbody>\n",
       "    <tr>\n",
       "      <th>0</th>\n",
       "      <td>2020-02-28</td>\n",
       "      <td>For everyone comparing COVID-19 to the flu, ju...</td>\n",
       "      <td>MonaIbrahim</td>\n",
       "      <td>https://twitter.com/MonaIbrahim/status/1233542...</td>\n",
       "      <td>3</td>\n",
       "      <td>0</td>\n",
       "      <td>0</td>\n",
       "    </tr>\n",
       "    <tr>\n",
       "      <th>1</th>\n",
       "      <td>2020-02-28</td>\n",
       "      <td>“Perhaps more than any other type of medicine,...</td>\n",
       "      <td>Moratel_Entles</td>\n",
       "      <td>https://twitter.com/Moratel_Entles/status/1233...</td>\n",
       "      <td>1</td>\n",
       "      <td>0</td>\n",
       "      <td>0</td>\n",
       "    </tr>\n",
       "    <tr>\n",
       "      <th>2</th>\n",
       "      <td>2020-02-28</td>\n",
       "      <td>Provide pharmaceutical companies with the oppo...</td>\n",
       "      <td>help_4_Iranian</td>\n",
       "      <td>https://twitter.com/help_4_Iranian/status/1233...</td>\n",
       "      <td>0</td>\n",
       "      <td>0</td>\n",
       "      <td>0</td>\n",
       "    </tr>\n",
       "    <tr>\n",
       "      <th>3</th>\n",
       "      <td>2020-02-28</td>\n",
       "      <td>From John's Hopkins: 1)  Immediate risk of COV...</td>\n",
       "      <td>TruthFreedom17</td>\n",
       "      <td>https://twitter.com/TruthFreedom17/status/1233...</td>\n",
       "      <td>1</td>\n",
       "      <td>1</td>\n",
       "      <td>0</td>\n",
       "    </tr>\n",
       "    <tr>\n",
       "      <th>4</th>\n",
       "      <td>2020-02-28</td>\n",
       "      <td>If the #stockmarkets keep falling - how confid...</td>\n",
       "      <td>notarywise</td>\n",
       "      <td>https://twitter.com/notarywise/status/12335410...</td>\n",
       "      <td>0</td>\n",
       "      <td>0</td>\n",
       "      <td>0</td>\n",
       "    </tr>\n",
       "  </tbody>\n",
       "</table>\n",
       "</div>"
      ],
      "text/plain": [
       "        date                                              tweet  \\\n",
       "0 2020-02-28  For everyone comparing COVID-19 to the flu, ju...   \n",
       "1 2020-02-28  “Perhaps more than any other type of medicine,...   \n",
       "2 2020-02-28  Provide pharmaceutical companies with the oppo...   \n",
       "3 2020-02-28  From John's Hopkins: 1)  Immediate risk of COV...   \n",
       "4 2020-02-28  If the #stockmarkets keep falling - how confid...   \n",
       "\n",
       "         username                                               link  nlikes  \\\n",
       "0     MonaIbrahim  https://twitter.com/MonaIbrahim/status/1233542...       3   \n",
       "1  Moratel_Entles  https://twitter.com/Moratel_Entles/status/1233...       1   \n",
       "2  help_4_Iranian  https://twitter.com/help_4_Iranian/status/1233...       0   \n",
       "3  TruthFreedom17  https://twitter.com/TruthFreedom17/status/1233...       1   \n",
       "4      notarywise  https://twitter.com/notarywise/status/12335410...       0   \n",
       "\n",
       "   nreplies  nretweets  \n",
       "0         0          0  \n",
       "1         0          0  \n",
       "2         0          0  \n",
       "3         1          0  \n",
       "4         0          0  "
      ]
     },
     "execution_count": 16,
     "metadata": {},
     "output_type": "execute_result"
    }
   ],
   "source": [
    "# check the current edition\n",
    "df.head()"
   ]
  },
  {
   "cell_type": "markdown",
   "metadata": {},
   "source": [
    "## Drop Duplicate Rows"
   ]
  },
  {
   "cell_type": "code",
   "execution_count": 17,
   "metadata": {},
   "outputs": [
    {
     "data": {
      "text/plain": [
       "False    77259\n",
       "True       877\n",
       "dtype: int64"
      ]
     },
     "execution_count": 17,
     "metadata": {},
     "output_type": "execute_result"
    }
   ],
   "source": [
    "# checking for duplicate tweets\n",
    "df.duplicated(subset='tweet').value_counts()"
   ]
  },
  {
   "cell_type": "code",
   "execution_count": 18,
   "metadata": {},
   "outputs": [],
   "source": [
    "# dropping duplicates\n",
    "df = df.drop_duplicates(subset='tweet')"
   ]
  },
  {
   "cell_type": "markdown",
   "metadata": {},
   "source": [
    "## Save as a Pickle"
   ]
  },
  {
   "cell_type": "code",
   "execution_count": 19,
   "metadata": {},
   "outputs": [
    {
     "name": "stdout",
     "output_type": "stream",
     "text": [
      "(77259, 7)\n"
     ]
    }
   ],
   "source": [
    "# save as a pickle to pickle_jar and final shape\n",
    "df.to_pickle('data/clean_df.pkl')\n",
    "\n",
    "# final shape\n",
    "print(df.shape)"
   ]
  },
  {
   "cell_type": "markdown",
   "metadata": {},
   "source": [
    "The final shape of my dataframe after the cleaning process is 77,259 tweets and 7 columns of data per tweet. It is unfortunate to have had to let go of almost 3,000 rows of data, but the decisions to drop non-English and duplicate tweets are justified as those data points would only cloud my analysis and modeling. Over a span of 10 months, this many tweets is substantial for general analysis of Enlish language tweets about the COVID-19 vaccine. I will begin visualizing and preprocessing the data in my next notebook titled [EDA](https://github.com/davidlebruce/covid_vaccine_tweets/blob/main/03_EDA.ipynb)."
   ]
  }
 ],
 "metadata": {
  "kernelspec": {
   "display_name": "Python 3",
   "language": "python",
   "name": "python3"
  },
  "language_info": {
   "codemirror_mode": {
    "name": "ipython",
    "version": 3
   },
   "file_extension": ".py",
   "mimetype": "text/x-python",
   "name": "python",
   "nbconvert_exporter": "python",
   "pygments_lexer": "ipython3",
   "version": "3.6.9"
  }
 },
 "nbformat": 4,
 "nbformat_minor": 4
}
